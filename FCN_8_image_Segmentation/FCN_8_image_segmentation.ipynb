{
 "cells": [
  {
   "cell_type": "markdown",
   "metadata": {},
   "source": [
    "# Image segmentation of hand written digits "
   ]
  },
  {
   "cell_type": "code",
   "execution_count": 1,
   "metadata": {},
   "outputs": [
    {
     "name": "stdout",
     "output_type": "stream",
     "text": [
      "WARNING:tensorflow:From C:\\Users\\PMLS\\AppData\\Roaming\\Python\\Python311\\site-packages\\keras\\src\\losses.py:2976: The name tf.losses.sparse_softmax_cross_entropy is deprecated. Please use tf.compat.v1.losses.sparse_softmax_cross_entropy instead.\n",
      "\n"
     ]
    }
   ],
   "source": [
    "# Importing libraries :\n",
    "\n",
    "import tensorflow as tf\n",
    "import tensorflow_datasets as tfds\n",
    "from sklearn.model_selection import train_test_split\n",
    "\n",
    "import os\n",
    "import zipfile\n",
    "import PIL.ImageFont , PIL.Image , PIL.ImageDraw\n",
    "\n",
    "import  matplotlib.pyplot as plt\n",
    "\n",
    "import requests\n",
    "import io\n",
    "import numpy as np"
   ]
  },
  {
   "cell_type": "code",
   "execution_count": 2,
   "metadata": {},
   "outputs": [],
   "source": [
    "# Download zipped dataset\n",
    "\n",
    "url = 'https://storage.googleapis.com/tensorflow-1-public/tensorflow-3-temp/m2nist.zip'\n",
    "\n",
    "response = requests.get(url, stream=True)\n",
    "\n",
    "# Find and extract to a local folder ('/tmp/training')\n",
    "\n",
    "with zipfile.ZipFile(io.BytesIO(response.content)) as zip_ref:\n",
    "    \n",
    "    zip_ref.extractall('/tmp/training')\n"
   ]
  },
  {
   "cell_type": "markdown",
   "metadata": {},
   "source": [
    " Load and process the dataset :"
   ]
  },
  {
   "cell_type": "code",
   "execution_count": 3,
   "metadata": {},
   "outputs": [],
   "source": [
    "BATCH_SIZE = 32\n",
    "\n",
    "def read_image_and_annotation(image, annotation):\n",
    "\n",
    "  image = tf.cast(image, dtype=tf.float32)\n",
    "  \n",
    "  image = tf.reshape(image, (image.shape[0], image.shape[1], 1,))\n",
    "  \n",
    "  annotation = tf.cast(annotation, dtype=tf.int32)\n",
    "  \n",
    "  image = image / 127.5\n",
    "  \n",
    "  image -= 1\n",
    "\n",
    "  return image, annotation\n",
    "\n",
    "\n",
    "def get_training_dataset(images, annos):\n",
    "\n",
    "  training_dataset = tf.data.Dataset.from_tensor_slices((images, annos))\n",
    "  \n",
    "  training_dataset = training_dataset.map(read_image_and_annotation)\n",
    "\n",
    "  training_dataset = training_dataset.shuffle(512, reshuffle_each_iteration=True)\n",
    "  \n",
    "  training_dataset = training_dataset.batch(BATCH_SIZE)\n",
    "  \n",
    "  training_dataset = training_dataset.repeat()\n",
    "  \n",
    "  training_dataset = training_dataset.prefetch(-1)\n",
    "\n",
    "  return training_dataset\n",
    "\n",
    "\n",
    "def get_validation_dataset(images, annos):\n",
    "\n",
    "  validation_dataset = tf.data.Dataset.from_tensor_slices((images, annos))\n",
    "  \n",
    "  validation_dataset = validation_dataset.map(read_image_and_annotation)\n",
    "  \n",
    "  validation_dataset = validation_dataset.batch(BATCH_SIZE)\n",
    "  \n",
    "  validation_dataset = validation_dataset.repeat()\n",
    "\n",
    "  return validation_dataset\n",
    "\n",
    "\n",
    "def get_test_dataset(images, annos):\n",
    "\n",
    "  test_dataset = tf.data.Dataset.from_tensor_slices((images, annos))\n",
    "  \n",
    "  test_dataset = test_dataset.map(read_image_and_annotation)\n",
    "  \n",
    "  test_dataset = test_dataset.batch(BATCH_SIZE, drop_remainder=True)\n",
    "\n",
    "  return test_dataset\n",
    "\n",
    "\n",
    "def load_images_and_segments():\n",
    "\n",
    "  \n",
    "  images = np.load('/tmp/training/combined.npy')\n",
    "  \n",
    "  segments = np.load('/tmp/training/segmented.npy')\n",
    "\n",
    "  \n",
    "  \n",
    "  train_images, val_images, train_annos, val_annos = train_test_split(images, segments, test_size=0.2, shuffle=True)\n",
    "  \n",
    "  val_images, test_images, val_annos, test_annos = train_test_split(val_images, val_annos, test_size=0.2, shuffle=True)\n",
    "  \n",
    "\n",
    "  return (train_images, train_annos), (val_images, val_annos), (test_images, test_annos)\n"
   ]
  },
  {
   "cell_type": "code",
   "execution_count": 4,
   "metadata": {},
   "outputs": [],
   "source": [
    "def load_images_and_segments():\n",
    "    \n",
    "  images = np.load('/tmp/training/combined.npy')                 # load images and segmeentation mask\n",
    "  \n",
    "  segments = np.load('/tmp/training/segmented.npy')\n",
    "  \n",
    "  \n",
    "  train_images , val_images , train_annos , val_annos = train_test_split(images , segments , test_size= 0.2 , shuffle= True)\n",
    "  \n",
    "  val_images , test_images , val_annos, test_annos = train_test_split(val_images , val_annos , test_size= 0.2 , shuffle= True)\n",
    "  \n",
    "  \n",
    "  \n",
    "  return (train_images , train_annos) , (val_images , val_annos) , (test_images , test_annos)"
   ]
  },
  {
   "cell_type": "code",
   "execution_count": 5,
   "metadata": {},
   "outputs": [],
   "source": [
    "# Load dataset:\n",
    "\n",
    "train_slices , val_slices , test_slices = load_images_and_segments()\n",
    "\n",
    "training_dataset = get_training_dataset(train_slices[0] , train_slices[1] )\n",
    "\n",
    "validation_dataset = get_validation_dataset(val_slices[0] , val_slices[1] )\n",
    "\n",
    "test_dataset = get_test_dataset(test_slices[0] , test_slices[1] )\n",
    "\n"
   ]
  },
  {
   "cell_type": "markdown",
   "metadata": {},
   "source": [
    "Visualizing data:"
   ]
  },
  {
   "cell_type": "code",
   "execution_count": 6,
   "metadata": {},
   "outputs": [],
   "source": [
    "# Visualization Utilities\n",
    "\n",
    "n_classes = 11\n",
    "\n",
    "# assign a random color for each class\n",
    "\n",
    "colors = [tuple(np.random.randint(256, size=3) / 255.0) for i in range(n_classes)]\n",
    "\n",
    "\n",
    "def fuse_with_pil(images):\n",
    "\n",
    "  widths = (image.shape[1] for image in images)\n",
    "  \n",
    "  heights = (image.shape[0] for image in images)\n",
    "  \n",
    "  total_width = sum(widths)\n",
    "  \n",
    "  max_height = max(heights)\n",
    "\n",
    "  new_im = PIL.Image.new('RGB', (total_width, max_height))\n",
    "\n",
    "  x_offset = 0\n",
    "  \n",
    "  for im in images:\n",
    "      \n",
    "    pil_image = PIL.Image.fromarray(np.uint8(im))\n",
    "    \n",
    "    new_im.paste(pil_image, (x_offset,0))\n",
    "    \n",
    "    x_offset += im.shape[1]\n",
    "    \n",
    "  return new_im\n",
    "\n",
    "\n",
    "def give_color_to_annotation(annotation):\n",
    "\n",
    "  seg_img = np.zeros( (annotation.shape[0],annotation.shape[1], 3) ).astype('float')\n",
    "  \n",
    "  for c in range(n_classes):\n",
    "      \n",
    "    segc = (annotation == c)\n",
    "    \n",
    "    seg_img[:,:,0] += segc*( colors[c][0] * 255.0)\n",
    "    \n",
    "    seg_img[:,:,1] += segc*( colors[c][1] * 255.0)\n",
    "    \n",
    "    seg_img[:,:,2] += segc*( colors[c][2] * 255.0)\n",
    "  \n",
    "  return seg_img\n",
    "\n",
    "\n",
    "def show_annotation_and_prediction(image, annotation, prediction, iou_list, dice_score_list):\n",
    "\n",
    "  new_ann = np.argmax(annotation, axis=2)\n",
    "  \n",
    "  true_img = give_color_to_annotation(new_ann)\n",
    "  \n",
    "  pred_img = give_color_to_annotation(prediction)\n",
    "\n",
    "  image = image + 1\n",
    "  \n",
    "  image = image * 127.5\n",
    "  \n",
    "  image = np.reshape(image, (image.shape[0], image.shape[1],))\n",
    "  \n",
    "  image = np.uint8(image)\n",
    "  \n",
    "  images = [image, np.uint8(pred_img), np.uint8(true_img)]\n",
    "\n",
    "  metrics_by_id = [(idx, iou, dice_score) for idx, (iou, dice_score) in enumerate(zip(iou_list, dice_score_list)) if iou > 0.0 and idx < 10]\n",
    "  \n",
    "  metrics_by_id.sort(key=lambda tup: tup[1], reverse=True)  # sorts in place\n",
    "\n",
    "  display_string_list = [\"{}: IOU: {} Dice Score: {}\".format(idx, iou, dice_score) for idx, iou, dice_score in metrics_by_id]\n",
    "  \n",
    "  display_string = \"\\n\".join(display_string_list)\n",
    "\n",
    "  plt.figure(figsize=(15, 4))\n",
    "\n",
    "  for idx, im in enumerate(images):\n",
    "      \n",
    "    plt.subplot(1, 3, idx+1)\n",
    "    \n",
    "    if idx == 1:\n",
    "        \n",
    "      plt.xlabel(display_string)\n",
    "      \n",
    "    plt.xticks([])\n",
    "    \n",
    "    plt.yticks([])\n",
    "    \n",
    "    plt.imshow(im)\n",
    "\n",
    "\n",
    "def show_annotation_and_image(image, annotation):\n",
    "\n",
    "  new_ann = np.argmax(annotation, axis=2)\n",
    "  \n",
    "  seg_img = give_color_to_annotation(new_ann)\n",
    "  \n",
    "  image = image + 1\n",
    "  \n",
    "  image = image * 127.5\n",
    "  \n",
    "  image = np.reshape(image, (image.shape[0], image.shape[1],))\n",
    "\n",
    "  image = np.uint8(image)\n",
    "  \n",
    "  images = [image, seg_img]\n",
    "  \n",
    "  images = [image, seg_img]\n",
    "  \n",
    "  fused_img = fuse_with_pil(images)\n",
    "  \n",
    "  plt.imshow(fused_img)\n",
    "\n",
    "\n",
    "def list_show_annotation(dataset, num_images):\n",
    "\n",
    "  ds = dataset.unbatch()\n",
    "\n",
    "  plt.figure(figsize=(20, 15))\n",
    "  \n",
    "  plt.title(\"Images And Annotations\")\n",
    "  \n",
    "  plt.subplots_adjust(bottom=0.1, top=0.9, hspace=0.05)\n",
    "\n",
    "  for idx, (image, annotation) in enumerate(ds.take(num_images)):\n",
    "      \n",
    "    plt.subplot(5, 5, idx + 1)\n",
    "    \n",
    "    plt.yticks([])\n",
    "    \n",
    "    plt.xticks([])\n",
    "    \n",
    "    show_annotation_and_image(image.numpy(), annotation.numpy())\n"
   ]
  },
  {
   "cell_type": "code",
   "execution_count": 7,
   "metadata": {},
   "outputs": [
    {
     "name": "stderr",
     "output_type": "stream",
     "text": [
      "C:\\Users\\PMLS\\AppData\\Local\\Temp\\ipykernel_11020\\4053843237.py:130: MatplotlibDeprecationWarning: Auto-removal of overlapping axes is deprecated since 3.6 and will be removed two minor releases later; explicitly call ax.remove() as needed.\n",
      "  plt.subplot(5, 5, idx + 1)\n"
     ]
    },
    {
     "data": {
      "image/png": "[encoded data removed]",
      "text/plain": [
       "<Figure size 2000x1500 with 10 Axes>"
      ]
     },
     "metadata": {},
     "output_type": "display_data"
    }
   ],
   "source": [
    "# get 10 images from the training set\n",
    "\n",
    "list_show_annotation(training_dataset, 10)"
   ]
  },
  {
   "cell_type": "code",
   "execution_count": 8,
   "metadata": {},
   "outputs": [
    {
     "name": "stderr",
     "output_type": "stream",
     "text": [
      "C:\\Users\\PMLS\\AppData\\Local\\Temp\\ipykernel_11020\\4053843237.py:130: MatplotlibDeprecationWarning: Auto-removal of overlapping axes is deprecated since 3.6 and will be removed two minor releases later; explicitly call ax.remove() as needed.\n",
      "  plt.subplot(5, 5, idx + 1)\n"
     ]
    },
    {
     "data": {
      "image/png": "[encoded data removed]",
      "text/plain": [
       "<Figure size 2000x1500 with 10 Axes>"
      ]
     },
     "metadata": {},
     "output_type": "display_data"
    }
   ],
   "source": [
    "# get 10 images from the validation set\n",
    "\n",
    "list_show_annotation(validation_dataset, 10)"
   ]
  },
  {
   "cell_type": "markdown",
   "metadata": {},
   "source": [
    "FCN-8 Encoder"
   ]
  },
  {
   "cell_type": "code",
   "execution_count": 9,
   "metadata": {},
   "outputs": [],
   "source": [
    "IMAGE_ORDERING = 'channels_last'\n",
    "\n",
    "def conv_block(input, filters, strides, pooling_size, pool_strides):\n",
    "\n",
    "  x = tf.keras.layers.Conv2D(filters, strides, padding='same', data_format=IMAGE_ORDERING)(input)\n",
    "  \n",
    "  x = tf.keras.layers.LeakyReLU()(x)\n",
    "  \n",
    "  x = tf.keras.layers.Conv2D(filters, strides,padding='same')(x)\n",
    "  \n",
    "  x = tf.keras.layers.LeakyReLU()(x)\n",
    "  \n",
    "  x = tf.keras.layers.MaxPooling2D(pool_size=pooling_size,strides=pool_strides)(x)\n",
    "  \n",
    "  x = tf.keras.layers.BatchNormalization()(x)\n",
    "\n",
    "  return x"
   ]
  },
  {
   "cell_type": "code",
   "execution_count": 10,
   "metadata": {},
   "outputs": [],
   "source": [
    "def FCN8(input_height = 64 , input_width = 84):\n",
    "    \n",
    "    img_input = tf.keras.layers.Input(shape = ( input_height , input_width , 1))\n",
    "    \n",
    "    zero_padding = tf.keras.layers.ZeroPadding2D(((0 , 0) , (0 , 96 - input_width)))(img_input)\n",
    "    \n",
    "    b1 = conv_block(zero_padding , 32 , strides = (3 , 3 ) , pooling_size = (2 , 2) , pool_strides = (2 , 2))\n",
    "    \n",
    "    b2 = conv_block(b1 , 64 , strides = (3 , 3 ) , pooling_size = (2 , 2) , pool_strides = (2 , 2))\n",
    "    \n",
    "    b3 = conv_block(b2 , 128 , strides = (3 , 3) , pooling_size = (2 , 2) , pool_strides = (2 , 2))\n",
    "    \n",
    "    conv_block_3 = b3\n",
    "    \n",
    "    b4 = conv_block(b3 , 256 , strides = (3 , 3) , pooling_size = (2 ,2) , pool_strides = (2 , 2))\n",
    "    \n",
    "    conv_block_4 = b4\n",
    "    \n",
    "    b5 = conv_block(b4 , 512 , strides = (3 , 3) , pooling_size = (2 , 2) , pool_strides = (2 , 2))\n",
    "    \n",
    "    conv_block_5 = b5\n",
    "    \n",
    "    return (conv_block_3 , conv_block_4 , conv_block_5) , img_input\n",
    "                                \n",
    "    "
   ]
  },
  {
   "cell_type": "markdown",
   "metadata": {},
   "source": [
    "FCN-8 Decoder"
   ]
  },
  {
   "cell_type": "code",
   "execution_count": 11,
   "metadata": {},
   "outputs": [],
   "source": [
    "def FCN8_decoder(convs , n_classes):\n",
    "        \n",
    "    conv_block_3 , conv_block_4 , conv_block_5 = convs            # feature form encoder block\n",
    "    \n",
    "    n = 512                                                        # number of features\n",
    "    \n",
    "    # Add convolution layer on the top of CNN extractor\n",
    "    \n",
    "    o = tf.keras.layers.Conv2D(n , (7 , 7) , activation = 'relu' , padding = 'same' , name = 'conv_6', data_format = IMAGE_ORDERING)(conv_block_5)\n",
    "    \n",
    "    o = tf.keras.layers.Dropout(0.5)(o)\n",
    "    \n",
    "    o = tf.keras.layers.Conv2D(n , (1 ,1) , activation = 'relu' , padding = 'same' , name = 'conv_7' , data_format = IMAGE_ORDERING)(o)\n",
    "    \n",
    "    o = tf.keras.layers.Dropout(0.5)(o)\n",
    "    \n",
    "    \n",
    "    #up sampling the image :\n",
    "    \n",
    "    o = tf.keras.layers.Conv2DTranspose(n_classes , kernel_size = (4 , 4), strides = (2 , 2), use_bias = False)(conv_block_5)\n",
    "    \n",
    "    o = tf.keras.layers.Cropping2D(cropping = (1 , 1))(o)                       # upsamples o and crop the extra pixels\n",
    "    \n",
    "    \n",
    "    # load conv_block_4 and reshape it\n",
    "    \n",
    "    o2 = conv_block_4\n",
    "    \n",
    "    o2 = tf.keras.layers.Conv2D(n_classes , kernel_size = (1 , 1), activation = 'relu' , padding = 'same')(o2)\n",
    "    \n",
    "    \n",
    "    # Adding the result of up_sampling and o2 :\n",
    "    \n",
    "    o = tf.keras.layers.Add()([o , o2])\n",
    "    \n",
    "    \n",
    "    \n",
    "    #  up_sampling the added layers:\n",
    "    \n",
    "    o = tf.keras.layers.Conv2DTranspose(n_classes , kernel_size = (4 , 4), strides = (2, 2) , use_bias = False)(o)\n",
    "    \n",
    "    o = tf.keras.layers.Cropping2D(cropping = (1 , 1))(o)\n",
    "    \n",
    "    \n",
    "    \n",
    "    # Adding the results :\n",
    "    \n",
    "    o2 = conv_block_3    \n",
    "    \n",
    "    o2 = tf.keras.layers.Conv2D(n_classes , (1 , 1) , activation = 'relu' , padding = 'same' , data_format = IMAGE_ORDERING) (o2)\n",
    "    \n",
    "    o = tf.keras.layers.Add()([o , o2])\n",
    "    \n",
    "    \n",
    "    # 8x up_sampling:\n",
    "    \n",
    "    o = tf.keras.layers.Conv2DTranspose(n_classes , kernel_size = (8 , 8) , strides = (8 , 8) , use_bias = False)(o)\n",
    "    \n",
    "    o = tf.keras.layers.Cropping2D(((0 , 0) , (0 , 96 - 84)))(o)\n",
    "    \n",
    "    \n",
    "    o = tf.keras.layers.Activation('sigmoid')(o)\n",
    "    \n",
    "    return o\n",
    "    "
   ]
  },
  {
   "cell_type": "markdown",
   "metadata": {},
   "source": [
    "Defining the complete model"
   ]
  },
  {
   "cell_type": "code",
   "execution_count": 12,
   "metadata": {},
   "outputs": [
    {
     "name": "stdout",
     "output_type": "stream",
     "text": [
      "WARNING:tensorflow:From C:\\Users\\PMLS\\AppData\\Roaming\\Python\\Python311\\site-packages\\keras\\src\\backend.py:1398: The name tf.executing_eagerly_outside_functions is deprecated. Please use tf.compat.v1.executing_eagerly_outside_functions instead.\n",
      "\n",
      "WARNING:tensorflow:From C:\\Users\\PMLS\\AppData\\Roaming\\Python\\Python311\\site-packages\\keras\\src\\layers\\pooling\\max_pooling2d.py:161: The name tf.nn.max_pool is deprecated. Please use tf.nn.max_pool2d instead.\n",
      "\n"
     ]
    }
   ],
   "source": [
    "convs , img_input = FCN8()      # Encoder\n",
    "\n",
    "dec_op = FCN8_decoder(convs , n_classes)        # Decoder\n",
    "\n",
    "\n",
    "#Define the model:\n",
    "\n",
    "model = tf.keras.Model(inputs = img_input , outputs = dec_op)"
   ]
  },
  {
   "cell_type": "code",
   "execution_count": 13,
   "metadata": {},
   "outputs": [
    {
     "name": "stdout",
     "output_type": "stream",
     "text": [
      "Model: \"model\"\n",
      "__________________________________________________________________________________________________\n",
      " Layer (type)                Output Shape                 Param #   Connected to                  \n",
      "==================================================================================================\n",
      " input_1 (InputLayer)        [(None, 64, 84, 1)]          0         []                            \n",
      "                                                                                                  \n",
      " zero_padding2d (ZeroPaddin  (None, 64, 96, 1)            0         ['input_1[0][0]']             \n",
      " g2D)                                                                                             \n",
      "                                                                                                  \n",
      " conv2d (Conv2D)             (None, 64, 96, 32)           320       ['zero_padding2d[0][0]']      \n",
      "                                                                                                  \n",
      " leaky_re_lu (LeakyReLU)     (None, 64, 96, 32)           0         ['conv2d[0][0]']              \n",
      "                                                                                                  \n",
      " conv2d_1 (Conv2D)           (None, 64, 96, 32)           9248      ['leaky_re_lu[0][0]']         \n",
      "                                                                                                  \n",
      " leaky_re_lu_1 (LeakyReLU)   (None, 64, 96, 32)           0         ['conv2d_1[0][0]']            \n",
      "                                                                                                  \n",
      " max_pooling2d (MaxPooling2  (None, 32, 48, 32)           0         ['leaky_re_lu_1[0][0]']       \n",
      " D)                                                                                               \n",
      "                                                                                                  \n",
      " batch_normalization (Batch  (None, 32, 48, 32)           128       ['max_pooling2d[0][0]']       \n",
      " Normalization)                                                                                   \n",
      "                                                                                                  \n",
      " conv2d_2 (Conv2D)           (None, 32, 48, 64)           18496     ['batch_normalization[0][0]'] \n",
      "                                                                                                  \n",
      " leaky_re_lu_2 (LeakyReLU)   (None, 32, 48, 64)           0         ['conv2d_2[0][0]']            \n",
      "                                                                                                  \n",
      " conv2d_3 (Conv2D)           (None, 32, 48, 64)           36928     ['leaky_re_lu_2[0][0]']       \n",
      "                                                                                                  \n",
      " leaky_re_lu_3 (LeakyReLU)   (None, 32, 48, 64)           0         ['conv2d_3[0][0]']            \n",
      "                                                                                                  \n",
      " max_pooling2d_1 (MaxPoolin  (None, 16, 24, 64)           0         ['leaky_re_lu_3[0][0]']       \n",
      " g2D)                                                                                             \n",
      "                                                                                                  \n",
      " batch_normalization_1 (Bat  (None, 16, 24, 64)           256       ['max_pooling2d_1[0][0]']     \n",
      " chNormalization)                                                                                 \n",
      "                                                                                                  \n",
      " conv2d_4 (Conv2D)           (None, 16, 24, 128)          73856     ['batch_normalization_1[0][0]'\n",
      "                                                                    ]                             \n",
      "                                                                                                  \n",
      " leaky_re_lu_4 (LeakyReLU)   (None, 16, 24, 128)          0         ['conv2d_4[0][0]']            \n",
      "                                                                                                  \n",
      " conv2d_5 (Conv2D)           (None, 16, 24, 128)          147584    ['leaky_re_lu_4[0][0]']       \n",
      "                                                                                                  \n",
      " leaky_re_lu_5 (LeakyReLU)   (None, 16, 24, 128)          0         ['conv2d_5[0][0]']            \n",
      "                                                                                                  \n",
      " max_pooling2d_2 (MaxPoolin  (None, 8, 12, 128)           0         ['leaky_re_lu_5[0][0]']       \n",
      " g2D)                                                                                             \n",
      "                                                                                                  \n",
      " batch_normalization_2 (Bat  (None, 8, 12, 128)           512       ['max_pooling2d_2[0][0]']     \n",
      " chNormalization)                                                                                 \n",
      "                                                                                                  \n",
      " conv2d_6 (Conv2D)           (None, 8, 12, 256)           295168    ['batch_normalization_2[0][0]'\n",
      "                                                                    ]                             \n",
      "                                                                                                  \n",
      " leaky_re_lu_6 (LeakyReLU)   (None, 8, 12, 256)           0         ['conv2d_6[0][0]']            \n",
      "                                                                                                  \n",
      " conv2d_7 (Conv2D)           (None, 8, 12, 256)           590080    ['leaky_re_lu_6[0][0]']       \n",
      "                                                                                                  \n",
      " leaky_re_lu_7 (LeakyReLU)   (None, 8, 12, 256)           0         ['conv2d_7[0][0]']            \n",
      "                                                                                                  \n",
      " max_pooling2d_3 (MaxPoolin  (None, 4, 6, 256)            0         ['leaky_re_lu_7[0][0]']       \n",
      " g2D)                                                                                             \n",
      "                                                                                                  \n",
      " batch_normalization_3 (Bat  (None, 4, 6, 256)            1024      ['max_pooling2d_3[0][0]']     \n",
      " chNormalization)                                                                                 \n",
      "                                                                                                  \n",
      " conv2d_8 (Conv2D)           (None, 4, 6, 512)            1180160   ['batch_normalization_3[0][0]'\n",
      "                                                                    ]                             \n",
      "                                                                                                  \n",
      " leaky_re_lu_8 (LeakyReLU)   (None, 4, 6, 512)            0         ['conv2d_8[0][0]']            \n",
      "                                                                                                  \n",
      " conv2d_9 (Conv2D)           (None, 4, 6, 512)            2359808   ['leaky_re_lu_8[0][0]']       \n",
      "                                                                                                  \n",
      " leaky_re_lu_9 (LeakyReLU)   (None, 4, 6, 512)            0         ['conv2d_9[0][0]']            \n",
      "                                                                                                  \n",
      " max_pooling2d_4 (MaxPoolin  (None, 2, 3, 512)            0         ['leaky_re_lu_9[0][0]']       \n",
      " g2D)                                                                                             \n",
      "                                                                                                  \n",
      " batch_normalization_4 (Bat  (None, 2, 3, 512)            2048      ['max_pooling2d_4[0][0]']     \n",
      " chNormalization)                                                                                 \n",
      "                                                                                                  \n",
      " conv2d_transpose (Conv2DTr  (None, 6, 8, 11)             90112     ['batch_normalization_4[0][0]'\n",
      " anspose)                                                           ]                             \n",
      "                                                                                                  \n",
      " cropping2d (Cropping2D)     (None, 4, 6, 11)             0         ['conv2d_transpose[0][0]']    \n",
      "                                                                                                  \n",
      " conv2d_10 (Conv2D)          (None, 4, 6, 11)             2827      ['batch_normalization_3[0][0]'\n",
      "                                                                    ]                             \n",
      "                                                                                                  \n",
      " add (Add)                   (None, 4, 6, 11)             0         ['cropping2d[0][0]',          \n",
      "                                                                     'conv2d_10[0][0]']           \n",
      "                                                                                                  \n",
      " conv2d_transpose_1 (Conv2D  (None, 10, 14, 11)           1936      ['add[0][0]']                 \n",
      " Transpose)                                                                                       \n",
      "                                                                                                  \n",
      " cropping2d_1 (Cropping2D)   (None, 8, 12, 11)            0         ['conv2d_transpose_1[0][0]']  \n",
      "                                                                                                  \n",
      " conv2d_11 (Conv2D)          (None, 8, 12, 11)            1419      ['batch_normalization_2[0][0]'\n",
      "                                                                    ]                             \n",
      "                                                                                                  \n",
      " add_1 (Add)                 (None, 8, 12, 11)            0         ['cropping2d_1[0][0]',        \n",
      "                                                                     'conv2d_11[0][0]']           \n",
      "                                                                                                  \n",
      " conv2d_transpose_2 (Conv2D  (None, 64, 96, 11)           7744      ['add_1[0][0]']               \n",
      " Transpose)                                                                                       \n",
      "                                                                                                  \n",
      " cropping2d_2 (Cropping2D)   (None, 64, 84, 11)           0         ['conv2d_transpose_2[0][0]']  \n",
      "                                                                                                  \n",
      " activation (Activation)     (None, 64, 84, 11)           0         ['cropping2d_2[0][0]']        \n",
      "                                                                                                  \n",
      "==================================================================================================\n",
      "Total params: 4819654 (18.39 MB)\n",
      "Trainable params: 4817670 (18.38 MB)\n",
      "Non-trainable params: 1984 (7.75 KB)\n",
      "__________________________________________________________________________________________________\n"
     ]
    }
   ],
   "source": [
    "model.summary()"
   ]
  },
  {
   "cell_type": "code",
   "execution_count": 14,
   "metadata": {},
   "outputs": [],
   "source": [
    "model.compile(loss = 'binary_crossentropy' , optimizer = tf.keras.optimizers.Adam(learning_rate= 0.001) , metrics = ['accuracy'])"
   ]
  },
  {
   "cell_type": "markdown",
   "metadata": {},
   "source": [
    "Model training :\n"
   ]
  },
  {
   "cell_type": "code",
   "execution_count": 16,
   "metadata": {},
   "outputs": [
    {
     "name": "stdout",
     "output_type": "stream",
     "text": [
      "Epoch 1/5\n"
     ]
    },
    {
     "name": "stdout",
     "output_type": "stream",
     "text": [
      "125/125 [==============================] - 82s 655ms/step - loss: 0.0322 - accuracy: 0.9425 - val_loss: 0.0469 - val_accuracy: 0.9426\n",
      "Epoch 2/5\n",
      "125/125 [==============================] - 81s 645ms/step - loss: 0.0285 - accuracy: 0.9425 - val_loss: 0.0358 - val_accuracy: 0.9426\n",
      "Epoch 3/5\n",
      "125/125 [==============================] - 80s 636ms/step - loss: 0.0261 - accuracy: 0.9432 - val_loss: 0.0266 - val_accuracy: 0.9435\n",
      "Epoch 4/5\n",
      "125/125 [==============================] - 84s 669ms/step - loss: 0.0243 - accuracy: 0.9452 - val_loss: 0.0237 - val_accuracy: 0.9461\n",
      "Epoch 5/5\n",
      "125/125 [==============================] - 80s 639ms/step - loss: 0.0220 - accuracy: 0.9494 - val_loss: 0.0216 - val_accuracy: 0.9491\n"
     ]
    }
   ],
   "source": [
    "EPOCHS = 5\n",
    "\n",
    "steps_per_epoch = 4000 // BATCH_SIZE\n",
    "\n",
    "validation_steps = 800 // BATCH_SIZE\n",
    "\n",
    "test_steps = 200 // BATCH_SIZE\n",
    "\n",
    "\n",
    "history = model.fit(training_dataset , \n",
    "                    \n",
    "                    steps_per_epoch = steps_per_epoch ,\n",
    "                    \n",
    "                    validation_data = validation_dataset ,\n",
    "                    \n",
    "                    validation_steps = validation_steps ,\n",
    "                    \n",
    "                    epochs = EPOCHS)"
   ]
  },
  {
   "cell_type": "markdown",
   "metadata": {},
   "source": [
    "Testing the model :"
   ]
  },
  {
   "cell_type": "code",
   "execution_count": 17,
   "metadata": {},
   "outputs": [
    {
     "name": "stdout",
     "output_type": "stream",
     "text": [
      "6/6 [==============================] - 3s 127ms/step\n",
      "(192, 64, 84, 11)\n"
     ]
    }
   ],
   "source": [
    "results = model.predict(test_dataset , steps = test_steps)\n",
    "\n",
    "print(results.shape)"
   ]
  },
  {
   "cell_type": "code",
   "execution_count": null,
   "metadata": {},
   "outputs": [],
   "source": [
    "results = np.argmax(results , axis = 2)\n",
    "\n",
    "print(results.shape)\n",
    "\n",
    "print(results[0 , : ])           #Prediction map for image 0"
   ]
  },
  {
   "cell_type": "code",
   "execution_count": 27,
   "metadata": {},
   "outputs": [],
   "source": [
    "def class_wise_metrics(y_true , y_pred):\n",
    "    \n",
    "    class_wise_iou = []\n",
    "    \n",
    "    class_wise_dice_score = []\n",
    "    \n",
    "    smoothing_factor = 0.00001\n",
    "    \n",
    "    for i in range(n_classes):\n",
    "        \n",
    "        intersection = np.sum((y_pred == i) * (y_true == i).T)\n",
    "        \n",
    "        y_true_area = np.sum((y_true==i)) \n",
    "        \n",
    "        y_pred_area = np.sum((y_pred==i))\n",
    "        \n",
    "        combined_area = y_pred_area + y_true_area\n",
    "        \n",
    "        iou = (intersection) / (combined_area - intersection + smoothing_factor)\n",
    "        \n",
    "        class_wise_iou.append(iou)\n",
    "        \n",
    "        \n",
    "        \n",
    "        dice_score = 2 * ((intersection) / combined_area + smoothing_factor)\n",
    "        \n",
    "        class_wise_dice_score.append(dice_score)\n",
    "        \n",
    "        \n",
    "        return class_wise_iou , class_wise_dice_score\n",
    "        "
   ]
  },
  {
   "cell_type": "markdown",
   "metadata": {},
   "source": [
    "Visualizing the outputs :"
   ]
  },
  {
   "cell_type": "code",
   "execution_count": null,
   "metadata": {},
   "outputs": [],
   "source": [
    "# place a number here between 0 to 191 to pick an image from the test set\n",
    "integer_slider = 105\n",
    "\n",
    "ds = test_dataset.unbatch()\n",
    "ds = ds.batch(200)\n",
    "images = []\n",
    "\n",
    "y_true_segments = []\n",
    "for image, annotation in ds.take(2):\n",
    "  y_true_segments = annotation\n",
    "  images = image\n",
    "  \n",
    "  \n",
    "iou, dice_score = class_wise_metrics(np.argmax(y_true_segments[integer_slider], axis=2), results[integer_slider])  \n",
    "show_annotation_and_prediction(image[integer_slider], annotation[integer_slider], results[integer_slider], iou, dice_score)\n"
   ]
  },
  {
   "cell_type": "code",
   "execution_count": null,
   "metadata": {},
   "outputs": [],
   "source": [
    "cls_wise_iou, cls_wise_dice_score = class_wise_metrics(np.argmax(y_true_segments, axis=3), results)\n",
    "\n",
    "average_iou = 0.0\n",
    "for idx, (iou, dice_score) in enumerate(zip(cls_wise_iou[:-1], cls_wise_dice_score[:-1])):\n",
    "  print(\"Digit {}: IOU: {} Dice Score: {}\".format(idx, iou, dice_score)) \n",
    "  average_iou += iou\n",
    "\n",
    "grade = average_iou * 10\n",
    "\n",
    "print(\"\\nGrade is \" + str(grade))\n",
    "\n",
    "PASSING_GRADE = 60\n",
    "if (grade>PASSING_GRADE):\n",
    "  print(\"You passed!\")\n",
    "else:\n",
    "  print(\"You failed. Please check your model and re-train\")"
   ]
  },
  {
   "cell_type": "code",
   "execution_count": null,
   "metadata": {},
   "outputs": [],
   "source": []
  }
 ],
 "metadata": {
  "kernelspec": {
   "display_name": "venv",
   "language": "python",
   "name": "python3"
  },
  "language_info": {
   "codemirror_mode": {
    "name": "ipython",
    "version": 3
   },
   "file_extension": ".py",
   "mimetype": "text/x-python",
   "name": "python",
   "nbconvert_exporter": "python",
   "pygments_lexer": "ipython3",
   "version": "3.11.7"
  }
 },
 "nbformat": 4,
 "nbformat_minor": 2
}
